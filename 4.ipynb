{
  "nbformat": 4,
  "nbformat_minor": 0,
  "metadata": {
    "colab": {
      "provenance": [],
      "authorship_tag": "ABX9TyOJyeWS53yo6c6iAtpAPUmQ",
      "include_colab_link": true
    },
    "kernelspec": {
      "name": "python3",
      "display_name": "Python 3"
    },
    "language_info": {
      "name": "python"
    }
  },
  "cells": [
    {
      "cell_type": "markdown",
      "metadata": {
        "id": "view-in-github",
        "colab_type": "text"
      },
      "source": [
        "<a href=\"https://colab.research.google.com/github/DedyaevaK/MMVSULAB1/blob/main/4.ipynb\" target=\"_parent\"><img src=\"https://colab.research.google.com/assets/colab-badge.svg\" alt=\"Open In Colab\"/></a>"
      ]
    },
    {
      "cell_type": "markdown",
      "source": [
        "# Лабараторная №4"
      ],
      "metadata": {
        "id": "WgTsKN7P8Uvi"
      }
    },
    {
      "cell_type": "code",
      "execution_count": 4,
      "metadata": {
        "colab": {
          "base_uri": "https://localhost:8080/",
          "height": 430
        },
        "id": "QIrKxjoRjt5f",
        "outputId": "6c1ce960-66b3-4565-af07-afab2c26ca28"
      },
      "outputs": [
        {
          "output_type": "display_data",
          "data": {
            "text/plain": [
              "<Figure size 640x480 with 1 Axes>"
            ],
            "image/png": "[encoded data removed]"
          },
          "metadata": {}
        }
      ],
      "source": [
        "import matplotlib.pyplot as plt\n",
        "import numpy as np\n",
        "from scipy.integrate import odeint\n",
        "# Определяем функцию для параметров ДУ\n",
        "def dxdt(x,t):\n",
        "    k=-0.3\n",
        "    return k*x\n",
        "t=np.linspace(0, 100 , 100)\n",
        "# Решаем ДУ \n",
        "solve_1=odeint(dxdt,y0=1,t=t)\n",
        "solve_1=solve_1.flatten()\n",
        "# Находим функцию, задащую параметры ДУ для решения методом Эйлера\n",
        "def euler(f, y0=1, h=0.01, n = 100):\n",
        "    eul = np.arange(0,n+h,h)\n",
        "    y = [y0]\n",
        "    for i in range(len(eul)-1):\n",
        "        y.append(y[i] + h*f(y[i],eul[i]))\n",
        "    return y, eul\n",
        "solve_2, eul = euler(dxdt)\n",
        "# Строим график решения ДУ методом Эйлера\n",
        "%matplotlib inline\n",
        "plt.plot(t, solve_1, label=r\"x'=kx\", color = \"red\")\n",
        "plt.plot(eul, solve_2, label = r\"Метод Эйлера\", color = \"green\")\n",
        "plt.grid(True)\n",
        "plt.legend()\n",
        "plt.show()"
      ]
    },
    {
      "cell_type": "code",
      "source": [
        "import matplotlib.pyplot as plt\n",
        "import numpy as np\n",
        "from scipy.integrate import odeint\n",
        "h = 20 \n",
        "t = np.linspace(0,10,h)\n",
        "for i in t: \n",
        "  print(i) "
      ],
      "metadata": {
        "colab": {
          "base_uri": "https://localhost:8080/"
        },
        "id": "ZKbTJmVUkHk3",
        "outputId": "86f7b68f-353b-4d66-d371-edf751ed7aa1"
      },
      "execution_count": null,
      "outputs": [
        {
          "output_type": "stream",
          "name": "stdout",
          "text": [
            "0.0\n",
            "0.5263157894736842\n",
            "1.0526315789473684\n",
            "1.5789473684210527\n",
            "2.1052631578947367\n",
            "2.631578947368421\n",
            "3.1578947368421053\n",
            "3.6842105263157894\n",
            "4.2105263157894735\n",
            "4.7368421052631575\n",
            "5.263157894736842\n",
            "5.789473684210526\n",
            "6.315789473684211\n",
            "6.842105263157895\n",
            "7.368421052631579\n",
            "7.894736842105263\n",
            "8.421052631578947\n",
            "8.947368421052632\n",
            "9.473684210526315\n",
            "10.0\n"
          ]
        }
      ]
    }
  ]
}