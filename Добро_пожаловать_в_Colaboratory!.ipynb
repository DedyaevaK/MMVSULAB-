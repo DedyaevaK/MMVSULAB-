{
  "cells": [
    {
      "cell_type": "markdown",
      "metadata": {
        "id": "view-in-github",
        "colab_type": "text"
      },
      "source": [
        "<a href=\"https://colab.research.google.com/github/DedyaevaK/MMVSULAB-/blob/main/%D0%94%D0%BE%D0%B1%D1%80%D0%BE_%D0%BF%D0%BE%D0%B6%D0%B0%D0%BB%D0%BE%D0%B2%D0%B0%D1%82%D1%8C_%D0%B2_Colaboratory!.ipynb\" target=\"_parent\"><img src=\"https://colab.research.google.com/assets/colab-badge.svg\" alt=\"Open In Colab\"/></a>"
      ]
    },
    {
      "cell_type": "markdown",
      "source": [
        "Лабораторная №1\n"
      ],
      "metadata": {
        "id": "vo06dNZE1Om1"
      }
    },
    {
      "cell_type": "code",
      "source": [],
      "metadata": {
        "id": "pLNVjnFv1SqF"
      },
      "execution_count": null,
      "outputs": []
    },
    {
      "cell_type": "markdown",
      "source": [],
      "metadata": {
        "id": "VK_a4p071Tst"
      }
    },
    {
      "cell_type": "markdown",
      "source": [
        "Задание №1. Построение математической модели x'=k*x."
      ],
      "metadata": {
        "id": "13Zjc6Xe3IdV"
      }
    },
    {
      "cell_type": "code",
      "source": [
        "import matplotlib.pyplot as plt\n",
        "import numpy as np\n",
        "from scipy.integrate import odeint\n",
        "\n",
        "def dydt(x,t):\n",
        "  k = 0.42\n",
        "  return k*x\n",
        "t = np.linspace(0,10,100)\n",
        "solve = odeint(dydt, 1, t=t)\n",
        "solve = solve.flatten()\n",
        "%matplotlib inline \n",
        "\n",
        "plt.plot(t, solve, label = r\"x'=k*x\")\n",
        "plt.grid(True)\n",
        "plt.legend()\n",
        "plt.show()"
      ],
      "metadata": {
        "colab": {
          "base_uri": "https://localhost:8080/",
          "height": 265
        },
        "id": "19CbQ6Bu19Z2",
        "outputId": "709345bb-578c-4584-a910-c1368578d48d"
      },
      "execution_count": 3,
      "outputs": [
        {
          "output_type": "display_data",
          "data": {
            "text/plain": [
              "<Figure size 432x288 with 1 Axes>"
            ],
            "image/png": "[encoded data removed]"
          },
          "metadata": {
            "needs_background": "light"
          }
        }
      ]
    },
    {
      "cell_type": "markdown",
      "source": [
        "Задание №2. Построение математической модели x'=k(x)*x, где k(x)=ax-b."
      ],
      "metadata": {
        "id": "-rMkq7-d3cWl"
      }
    },
    {
      "cell_type": "code",
      "source": [
        "import matplotlib.pyplot as plt\n",
        "import numpy as np\n",
        "from scipy.integrate import odeint\n",
        "a=2\n",
        "b=6\n",
        "def dydt(x,t):\n",
        "  return k(x)*x\n",
        "def k(x):\n",
        "  return a*x-b\n",
        "t = np.linspace(0,10,100)\n",
        "solve = odeint(dydt, 1, t=t)\n",
        "solve = solve.flatten()\n",
        "%matplotlib inline \n",
        "plt.plot(t, solve, label = r\"x'=k(x)*x\")\n",
        "plt.grid(True)\n",
        "plt.legend()\n",
        "plt.show()"
      ],
      "metadata": {
        "colab": {
          "base_uri": "https://localhost:8080/",
          "height": 265
        },
        "id": "BDqXPDY-3h32",
        "outputId": "ea9a090e-e489-4e67-dd57-376778ec3d2f"
      },
      "execution_count": 5,
      "outputs": [
        {
          "output_type": "display_data",
          "data": {
            "text/plain": [
              "<Figure size 432x288 with 1 Axes>"
            ],
            "image/png": "[encoded data removed]"
          },
          "metadata": {
            "needs_background": "light"
          }
        }
      ]
    },
    {
      "cell_type": "markdown",
      "source": [
        "Задание №3. Построение математической модели x'=k(x)*x-c."
      ],
      "metadata": {
        "id": "Px-pFULJ3-pP"
      }
    },
    {
      "cell_type": "code",
      "source": [
        "import matplotlib.pyplot as plt\n",
        "import numpy as np\n",
        "from scipy.integrate import odeint\n",
        "\n",
        "def dydt(x,t):\n",
        "  c=2\n",
        "  return k(x)*x-c\n",
        "def k(x):\n",
        "  a=2\n",
        "  b=6\n",
        "  return a*x-b\n",
        "t = np.linspace(0,10,100)\n",
        "solve = odeint(dydt, 1, t=t)\n",
        "solve = solve.flatten()\n",
        "%matplotlib inline \n",
        "plt.plot(t, solve, label = r\"x'=k(x)*x-c\")\n",
        "plt.grid(True)\n",
        "plt.legend()\n",
        "plt.show()"
      ],
      "metadata": {
        "colab": {
          "base_uri": "https://localhost:8080/",
          "height": 265
        },
        "id": "eCqFP3Ri4KFO",
        "outputId": "1150712b-5b96-4f2f-e076-b221f205b439"
      },
      "execution_count": 7,
      "outputs": [
        {
          "output_type": "display_data",
          "data": {
            "text/plain": [
              "<Figure size 432x288 with 1 Axes>"
            ],
            "image/png": "[encoded data removed]"
          },
          "metadata": {
            "needs_background": "light"
          }
        }
      ]
    },
    {
      "cell_type": "markdown",
      "source": [
        "Задание №4. Построение математической модели x'=k(x)*x-c(x)."
      ],
      "metadata": {
        "id": "lZE-8CP142f2"
      }
    },
    {
      "cell_type": "code",
      "source": [
        "import matplotlib.pyplot as plt\n",
        "import numpy as np\n",
        "from scipy.integrate import odeint\n",
        "\n",
        "def dydt(x,t):\n",
        "  c=2\n",
        "  return k(x)*x-c\n",
        "def c(x):\n",
        "  a=2\n",
        "  return a*x\n",
        "def k(x):\n",
        "  a=2\n",
        "  b=6\n",
        "  return a*x-b\n",
        "t = np.linspace(0,10,100)\n",
        "solve = odeint(dydt, 1, t=t)\n",
        "solve = solve.flatten()\n",
        "%matplotlib inline \n",
        "plt.plot(t, solve, label = r\"x'=k(x)*x-c(x)\")\n",
        "plt.grid(True)\n",
        "plt.legend()\n",
        "plt.show()"
      ],
      "metadata": {
        "colab": {
          "base_uri": "https://localhost:8080/",
          "height": 265
        },
        "id": "Mm8M4xy746I1",
        "outputId": "0eef83ae-ebd5-43b2-af40-2048a196935c"
      },
      "execution_count": 8,
      "outputs": [
        {
          "output_type": "display_data",
          "data": {
            "text/plain": [
              "<Figure size 432x288 with 1 Axes>"
            ],
            "image/png": "[encoded data removed]"
          },
          "metadata": {
            "needs_background": "light"
          }
        }
      ]
    },
    {
      "cell_type": "markdown",
      "source": [],
      "metadata": {
        "id": "Uf5kWXuR3UO1"
      }
    }
  ],
  "metadata": {
    "colab": {
      "name": "Добро пожаловать в Colaboratory!",
      "toc_visible": true,
      "provenance": [],
      "include_colab_link": true
    },
    "kernelspec": {
      "display_name": "Python 3",
      "name": "python3"
    }
  },
  "nbformat": 4,
  "nbformat_minor": 0
}